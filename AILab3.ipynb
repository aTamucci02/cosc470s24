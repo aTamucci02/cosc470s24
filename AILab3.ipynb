{
  "nbformat": 4,
  "nbformat_minor": 0,
  "metadata": {
    "colab": {
      "provenance": [],
      "include_colab_link": true
    },
    "kernelspec": {
      "name": "python3",
      "display_name": "Python 3"
    },
    "language_info": {
      "name": "python"
    }
  },
  "cells": [
    {
      "cell_type": "markdown",
      "metadata": {
        "id": "view-in-github",
        "colab_type": "text"
      },
      "source": [
        "<a href=\"https://colab.research.google.com/github/aTamucci02/cosc470s24/blob/main/AILab3.ipynb\" target=\"_parent\"><img src=\"https://colab.research.google.com/assets/colab-badge.svg\" alt=\"Open In Colab\"/></a>"
      ]
    },
    {
      "cell_type": "markdown",
      "source": [
        "The **Hello, world** of neural networks\n",
        "This code builds a simple neural network that can recognize handwritten 28x28 pixel digits.\n",
        "\n",
        "Our first version will have 15 neurons in the hidden layer and 10 output neurons.\n",
        "\n",
        "See image below:\n",
        "http://neuralnetworksanddeeplearning.com/images/tikz12.png\n",
        "\n",
        "How many weights in this network?\n",
        "11760 weights in the first layer (784 * 15) and 150 weights in the second layer (15 * 10) = 11910 weights total\n",
        "15 biases in the hidden layer and 10 biases in the output layer = 25 biases total.\n",
        "11910 + 25 = 11935 parameters!"
      ],
      "metadata": {
        "id": "X6OTVSJZLxzO"
      }
    },
    {
      "cell_type": "code",
      "execution_count": 1,
      "metadata": {
        "id": "NQQ0yjJ6LUBN",
        "colab": {
          "base_uri": "https://localhost:8080/"
        },
        "outputId": "2d0f2b04-125a-4b68-a938-a1fc3f29d6a4"
      },
      "outputs": [
        {
          "output_type": "stream",
          "name": "stdout",
          "text": [
            "Cloning into 'nn'...\n",
            "remote: Enumerating objects: 63, done.\u001b[K\n",
            "remote: Counting objects: 100% (8/8), done.\u001b[K\n",
            "remote: Compressing objects: 100% (8/8), done.\u001b[K\n",
            "remote: Total 63 (delta 1), reused 3 (delta 0), pack-reused 55\u001b[K\n",
            "Receiving objects: 100% (63/63), 16.43 MiB | 18.91 MiB/s, done.\n",
            "Resolving deltas: 100% (28/28), done.\n",
            "/content/nn\n"
          ]
        }
      ],
      "source": [
        "!git clone https://github.com/MichalDanielDobrzanski/DeepLearningPython nn\n",
        "%cd nn"
      ]
    },
    {
      "cell_type": "code",
      "source": [
        "# this code depends on having executed the previous cell\n",
        "# (i.e., you need to have cloned the nn code and cd'ed into it)\n",
        "import network\n",
        "import mnist_loader\n",
        "training_data, validation_data, test_data = mnist_loader.load_data_wrapper()\n",
        "training_data = list(training_data)\n",
        "test_data = list(test_data)\n"
      ],
      "metadata": {
        "id": "TY_GaewAIO1z"
      },
      "execution_count": 2,
      "outputs": []
    },
    {
      "cell_type": "code",
      "source": [
        "import numpy as np\n",
        "print(np.shape(training_data[0][0]))\n",
        "print(np.shape(training_data[0][1]))\n",
        "print(training_data[0][1])"
      ],
      "metadata": {
        "colab": {
          "base_uri": "https://localhost:8080/"
        },
        "id": "5OCPyJhtQYtc",
        "outputId": "7d69e3d5-6651-4b6e-fffc-b42572f14873"
      },
      "execution_count": 4,
      "outputs": [
        {
          "output_type": "stream",
          "name": "stdout",
          "text": [
            "(784, 1)\n",
            "(10, 1)\n",
            "[[0.]\n",
            " [0.]\n",
            " [0.]\n",
            " [0.]\n",
            " [0.]\n",
            " [1.]\n",
            " [0.]\n",
            " [0.]\n",
            " [0.]\n",
            " [0.]]\n"
          ]
        }
      ]
    },
    {
      "cell_type": "code",
      "source": [
        "# average digit darkness\n",
        "# step 1 - write a function that can calculate the darkness of a single image\n",
        "def image_darkness(imgpixeldata):\n",
        "  darkness_total = 0\n",
        "  for x in imgpixeldata:\n",
        "    darkness_total = darkness_total + x\n",
        "  return darkness_total[0]\n",
        "\n",
        "# step 2 - call that function on all the training images and calculate the average darkness of each digit\n",
        "darkness = image_darkness(training_data[0][0])\n",
        "whichimage = np.argmax(training_data[0][1])\n",
        "print(f\"The first image was a {whichimage} and its darkness was {darkness}\")\n",
        "darkness = image_darkness(training_data[1][0])\n",
        "whichimage = np.argmax(training_data[1][1])\n",
        "print(f\"The second image was a {whichimage} and its darkness was {darkness}\")\n",
        "\n",
        "# define a 10-element list of darkness totals\n",
        "darkness_totals = [0 for _ in range(10)]\n",
        "# define a 10-elment list of digit counts\n",
        "darkness_counts = [0 for _ in range(10)]\n",
        "#there are 10 elements in the array because the 10 output nodes correspond to the 10 possible digits we are returning. Each digit has a different average darkness\n",
        "\n",
        "\n",
        "# iterate through each image and update the two data structures\n",
        "for training_img in training_data:\n",
        "  darkness = image_darkness(training_img[0])\n",
        "  whichimage = np.argmax(training_img[1])\n",
        "  darkness_totals[whichimage] += darkness\n",
        "  darkness_counts[whichimage] += 1\n",
        "\n",
        "# now calculate the averages\n",
        "darkness_averages = [darkness_totals[i]/darkness_counts[i] for i in range(10)]\n",
        "\n",
        "print(darkness_counts)\n",
        "print(darkness_averages)\n",
        "\n",
        "# step 3 - use those averages to classify all the test data images and count how many of each digit you get right\n",
        "def find_closest(darkness, darkness_averages):\n",
        "  differnces = np.abs(darkness_averages - darkness)\n",
        "  return np.argmin(differnces)\n",
        "\n",
        "correct_counts = [0 for _ in range(10)]\n",
        "wrong_counts = [0 for _ in range(10)]\n",
        "\n",
        "for imgdata, whichimage in test_data:\n",
        "  darkness = image_darkness(imgdata)\n",
        "  # see which darkness_average is closest to \"darkness\" and make that our classification for this image\n",
        "  closest_digit = find_closest(darkness, darkness_averages)\n",
        "  if closest_digit == whichimage:\n",
        "    correct_counts[whichimage] += 1\n",
        "  else:\n",
        "    wrong_counts[whichimage] += 1\n",
        "\n",
        "# now that we have our correct/wrong counts, turn that into accuracies\n",
        "digit_accuracies = [correct_counts[i]/(correct_counts[i]+wrong_counts[i]) for i in range(10)]\n",
        "print(digit_accuracies)"
      ],
      "metadata": {
        "colab": {
          "base_uri": "https://localhost:8080/"
        },
        "id": "xiMrbkucJPL9",
        "outputId": "9020056c-4124-4373-cf63-1d0815f69985"
      },
      "execution_count": 5,
      "outputs": [
        {
          "output_type": "stream",
          "name": "stdout",
          "text": [
            "The first image was a 5 and its darkness was 107.51953125\n",
            "The second image was a 0 and its darkness was 121.46484375\n",
            "[4932, 5678, 4968, 5101, 4859, 4506, 4951, 5175, 4842, 4988]\n",
            "[135.8691200324412, 59.66034750352237, 116.294303857186, 110.87092451235051, 95.22073970338548, 100.34646166222814, 107.38312020298929, 89.8788345410628, 117.88056410703221, 96.0455585592923]\n",
            "[0.5418367346938775, 0.8290748898678414, 0.04844961240310078, 0.048514851485148516, 0.048879837067209775, 0.0795964125560538, 0.06576200417536535, 0.28793774319066145, 0.13655030800821355, 0.04261645193260654]\n"
          ]
        }
      ]
    },
    {
      "cell_type": "code",
      "source": [
        "# part 2 - use this default configuration and the following hyper-parameters\n",
        "#    epochs - 30\n",
        "#    batch size - 10\n",
        "#    learning rate - 3.0\n",
        "net = network.Network([784, 30, 10])\n",
        "net.SGD(training_data, 10, 10, 3.0, test_data=test_data)\n"
      ],
      "metadata": {
        "colab": {
          "base_uri": "https://localhost:8080/"
        },
        "id": "V3qm9cgIQ2rh",
        "outputId": "ae131192-8291-48dd-dc43-e20ab3975468"
      },
      "execution_count": 7,
      "outputs": [
        {
          "output_type": "stream",
          "name": "stdout",
          "text": [
            "Epoch 0 : 7635 / 10000\n",
            "Epoch 1 : 8391 / 10000\n",
            "Epoch 2 : 8444 / 10000\n",
            "Epoch 3 : 8491 / 10000\n",
            "Epoch 4 : 8534 / 10000\n",
            "Epoch 5 : 9366 / 10000\n",
            "Epoch 6 : 9412 / 10000\n",
            "Epoch 7 : 9402 / 10000\n",
            "Epoch 8 : 9437 / 10000\n",
            "Epoch 9 : 9462 / 10000\n"
          ]
        }
      ]
    },
    {
      "cell_type": "code",
      "source": [
        "import numpy as np\n",
        "a = net.feedforward(test_data[2][0])\n",
        "print(a)\n",
        "print(np.argmax(a))\n",
        "print(test_data[2][1])\n",
        "\n",
        "# per digit accuracies\n",
        "correct_counts = [0 for _ in range(10)]\n",
        "digit_counts = [0 for _ in range(10)]\n",
        "\n",
        "for (x, y) in test_data:\n",
        "  a = np.argmax(net.feedforward(x))\n",
        "  if a == y:\n",
        "    correct_counts[y] += 1\n",
        "  digit_counts[y] += 1\n",
        "\n",
        "print(correct_counts)\n",
        "print(digit_counts)\n",
        "accuracies = [correct_counts[i]/digit_counts[i] for i in range(10)]\n",
        "print(accuracies)"
      ],
      "metadata": {
        "colab": {
          "base_uri": "https://localhost:8080/"
        },
        "id": "LPbCl_Rio5bK",
        "outputId": "6d12ca7a-a63a-422b-c103-372e0c667457"
      },
      "execution_count": 8,
      "outputs": [
        {
          "output_type": "stream",
          "name": "stdout",
          "text": [
            "[[9.73687821e-13]\n",
            " [9.94378873e-01]\n",
            " [4.79078020e-03]\n",
            " [8.31826210e-05]\n",
            " [1.06319488e-07]\n",
            " [3.62394820e-06]\n",
            " [1.75203227e-06]\n",
            " [5.07880083e-03]\n",
            " [1.19007812e-03]\n",
            " [8.85171780e-09]]\n",
            "1\n",
            "1\n",
            "[954, 1111, 972, 938, 940, 810, 924, 964, 917, 932]\n",
            "[980, 1135, 1032, 1010, 982, 892, 958, 1028, 974, 1009]\n",
            "[0.9734693877551021, 0.9788546255506608, 0.9418604651162791, 0.9287128712871288, 0.9572301425661914, 0.9080717488789237, 0.964509394572025, 0.9377431906614786, 0.9414784394250514, 0.9236868186323092]\n"
          ]
        }
      ]
    },
    {
      "cell_type": "code",
      "source": [
        "import matplotlib.pyplot as plt\n",
        "fig = plt.figure(figsize = (10, 5))\n",
        " # creating the bar plot\n",
        "plt.bar(range(0,10), accuracies, color ='maroon',\n",
        "        width = 0.4)\n",
        "plt.xlabel(\"Digit\")\n",
        "plt.ylabel(\"Accuracy\")\n",
        "plt.title(\"Per digit accuracy for standard hyperparams\")\n",
        "plt.show()"
      ],
      "metadata": {
        "colab": {
          "base_uri": "https://localhost:8080/",
          "height": 481
        },
        "id": "T9P4DXeSBlAK",
        "outputId": "2cea1709-b426-4ef3-d657-b319dd9417ea"
      },
      "execution_count": null,
      "outputs": [
        {
          "output_type": "display_data",
          "data": {
            "text/plain": [
              "<Figure size 1000x500 with 1 Axes>"
            ],
            "image/png": "[encoded data removed]"
          },
          "metadata": {}
        }
      ]
    },
    {
      "cell_type": "code",
      "source": [
        "import os\n",
        "from PIL import Image\n",
        "import numpy as np\n",
        "\n",
        "def load_and_process_images(directory):\n",
        "    images = []\n",
        "    labels = []  # Assuming file names give some clue about the labels or categories\n",
        "    for filename in os.listdir(directory):\n",
        "        if filename.endswith('.png'):\n",
        "            label = filename.split('.')[0]  # Simplistic approach: use part of file name as label\n",
        "            filepath = os.path.join(directory, filename)\n",
        "            image = Image.open(filepath).convert('L')  # Convert to grayscale\n",
        "            image = image.resize((28, 28), Image.ANTIALIAS)  # Resize to 28x28\n",
        "            image_array = np.asarray(image, dtype=np.float32)  # Convert to numpy array\n",
        "            image_array = image_array.reshape(784, 1)  # Flatten to fit input size of the network\n",
        "            image_array /= 255.0  # Normalize pixel values\n",
        "            images.append(image_array)\n",
        "            labels.append(label)\n",
        "    return images, labels\n",
        "\n",
        "# Assuming 'net' is your neural network instance and is already trained\n",
        "def classify_images(images, net):\n",
        "    results = []\n",
        "    for img in images:\n",
        "        output = net.feedforward(img)\n",
        "        predicted_digit = np.argmax(output)\n",
        "        results.append(predicted_digit)\n",
        "    return results\n",
        "\n",
        "# Load and process images\n",
        "directory = \"/content/NewNumbers\"\n",
        "images, labels = load_and_process_images(directory)\n",
        "\n",
        "# Classify images\n",
        "results = classify_images(images, net)\n",
        "\n",
        "# Output results (here you might want to compare results with expected labels)\n",
        "print(results)\n"
      ],
      "metadata": {
        "colab": {
          "base_uri": "https://localhost:8080/"
        },
        "id": "89A7DOHRVDgJ",
        "outputId": "f77c68de-667a-477b-96b5-f91d3f7a10db"
      },
      "execution_count": 12,
      "outputs": [
        {
          "output_type": "stream",
          "name": "stdout",
          "text": [
            "[1, 5, 7, 9, 8, 9, 5, 4, 2, 6, 1, 7, 2, 2, 5, 5, 4, 5, 5, 9, 4, 5, 5, 4, 1, 1, 9, 4, 8, 5]\n"
          ]
        },
        {
          "output_type": "stream",
          "name": "stderr",
          "text": [
            "<ipython-input-12-e9d2bd2870f7>:13: DeprecationWarning: ANTIALIAS is deprecated and will be removed in Pillow 10 (2023-07-01). Use LANCZOS or Resampling.LANCZOS instead.\n",
            "  image = image.resize((28, 28), Image.ANTIALIAS)  # Resize to 28x28\n"
          ]
        }
      ]
    },
    {
      "cell_type": "code",
      "source": [
        "# Initialize counters\n",
        "good_correct = 0\n",
        "good_total = 0\n",
        "small_correct = 0\n",
        "small_total = 0\n",
        "large_correct = 0\n",
        "large_total = 0\n",
        "\n",
        "good_results = [0]*10\n",
        "small_results = [0]*10\n",
        "large_results = [0]*10\n",
        "\n",
        "# Evaluate each image\n",
        "for label, result in zip(labels, results):\n",
        "    true_digit = int(label[-1])  # Assuming last character of label indicates the true digit\n",
        "    predicted_digit = result\n",
        "\n",
        "    if \"good\" in label:\n",
        "        good_total += 1\n",
        "        if true_digit == predicted_digit:\n",
        "            good_correct += 1\n",
        "            good_results[true_digit] = 1\n",
        "\n",
        "    elif \"small\" in label:\n",
        "        small_total += 1\n",
        "        if true_digit == predicted_digit:\n",
        "            small_correct += 1\n",
        "            small_results[true_digit] = 1\n",
        "\n",
        "    elif \"big\" in label:\n",
        "        large_total += 1\n",
        "        if true_digit == predicted_digit:\n",
        "            large_correct += 1\n",
        "            large_results[true_digit] = 1\n",
        "\n",
        "# Print results\n",
        "print(f\"Good images correctly classified: {good_correct}/{good_total}\")\n",
        "print(f\"Small images correctly classified: {small_correct}/{small_total}\")\n",
        "print(f\"Large images correctly classified: {large_correct}/{large_total}\")\n",
        "\n",
        "# Print digit-wise results\n",
        "print(\"Good images per digit classification (0=incorrect, 1=correct):\", good_results)\n",
        "print(\"Small images per digit classification (0=incorrect, 1=correct):\", small_results)\n",
        "print(\"Large images per digit classification (0=incorrect, 1=correct):\", large_results)\n"
      ],
      "metadata": {
        "colab": {
          "base_uri": "https://localhost:8080/"
        },
        "id": "jnP2kvW0WBFF",
        "outputId": "a11eb880-abdb-4923-bbac-0b1e45865266"
      },
      "execution_count": 13,
      "outputs": [
        {
          "output_type": "stream",
          "name": "stdout",
          "text": [
            "Good images correctly classified: 4/10\n",
            "Small images correctly classified: 0/10\n",
            "Large images correctly classified: 1/10\n",
            "Good images per digit classification (0=incorrect, 1=correct): [0, 1, 0, 0, 1, 0, 0, 0, 1, 1]\n",
            "Small images per digit classification (0=incorrect, 1=correct): [0, 0, 0, 0, 0, 0, 0, 0, 0, 0]\n",
            "Large images per digit classification (0=incorrect, 1=correct): [0, 0, 0, 0, 0, 1, 0, 0, 0, 0]\n"
          ]
        }
      ]
    }
  ]
}